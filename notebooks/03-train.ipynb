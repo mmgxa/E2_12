{
 "cells": [
  {
   "cell_type": "markdown",
   "id": "a6993ef9-52b6-478e-84c3-f11b3130696a",
   "metadata": {},
   "source": [
    "# 03 - Train and Deploy"
   ]
  },
  {
   "cell_type": "code",
   "execution_count": 61,
   "id": "08b19d9f-b20a-4db5-b685-e60bb9251cec",
   "metadata": {
    "tags": []
   },
   "outputs": [],
   "source": [
    "import boto3\n",
    "import sagemaker\n",
    "import time\n",
    "from time import strftime\n",
    "\n",
    "boto_session = boto3.Session()\n",
    "sagemaker_session = sagemaker.Session(boto_session=boto_session)\n",
    "sm_client = boto3.client(\"sagemaker\")\n",
    "region = boto_session.region_name\n",
    "bucket = sagemaker_session.default_bucket()\n",
    "role = sagemaker.get_execution_role()\n",
    "account = sagemaker_session.boto_session.client(\"sts\").get_caller_identity()[\"Account\"]\n",
    "\n",
    "prefix = 'sagemaker-intel-dvc'\n",
    "\n",
    "# print(f\"account: {account}\")\n",
    "# print(f\"bucket: {bucket}\")\n",
    "# print(f\"region: {region}\")\n",
    "# print(f\"role: {role}\")"
   ]
  },
  {
   "cell_type": "code",
   "execution_count": 3,
   "id": "f7293482-36a0-4eb2-8a8d-74cc2cf72d03",
   "metadata": {
    "tags": []
   },
   "outputs": [],
   "source": [
    "from sagemaker.pytorch import PyTorch\n",
    "from sagemaker import get_execution_role\n",
    "from sagemaker.debugger import TensorBoardOutputConfig"
   ]
  },
  {
   "cell_type": "code",
   "execution_count": 4,
   "id": "6827a0f4-9d89-4c35-b34d-ac42ac1fc54e",
   "metadata": {
    "tags": []
   },
   "outputs": [],
   "source": [
    "dvc_repo_url = \"codecommit::us-west-2://sagemaker-intel\"\n",
    "dvc_branch = \"processed-dataset\""
   ]
  },
  {
   "cell_type": "code",
   "execution_count": 5,
   "id": "0fe13f8b-efd2-466f-a39d-2bb9bcd21b23",
   "metadata": {
    "tags": []
   },
   "outputs": [],
   "source": [
    "tensorboard_output_config = TensorBoardOutputConfig(\n",
    "    s3_output_path=f's3://{bucket}/sagemaker-intel-logs',\n",
    "    container_local_output_path='/opt/ml/output/tensorboard'\n",
    ")"
   ]
  },
  {
   "cell_type": "code",
   "execution_count": 7,
   "id": "f76556a8-16cf-498c-a369-356c33d202d3",
   "metadata": {
    "tags": []
   },
   "outputs": [],
   "source": [
    "pt_estimator = PyTorch(\n",
    "    base_job_name=\"training-intel-dataset\",\n",
    "    source_dir=\"scripts\",\n",
    "    entry_point=\"train.py\",\n",
    "    role=get_execution_role(),\n",
    "    image_uri='****.dkr.ecr.us-west-2.amazonaws.com/emlo:train',\n",
    "    instance_count=1,\n",
    "    instance_type=\"ml.g4dn.2xlarge\",\n",
    "    tensorboard_output_config=tensorboard_output_config,\n",
    "    use_spot_instances=True,\n",
    "    max_wait=1800,\n",
    "    max_run=1500,\n",
    "    environment={\n",
    "        \"DVC_REPO_URL\": dvc_repo_url,\n",
    "        \"DVC_BRANCH\": dvc_branch,\n",
    "        \"GIT_USER\": \"m\",\n",
    "        \"GIT_EMAIL\": \"m@emlo.com\"\n",
    "    }\n",
    ")"
   ]
  },
  {
   "cell_type": "code",
   "execution_count": null,
   "id": "5e8db302-5cd5-4d45-aedb-d61808c4c2b2",
   "metadata": {},
   "outputs": [],
   "source": [
    "pt_estimator.fit()"
   ]
  },
  {
   "cell_type": "markdown",
   "id": "024cb987-bb1f-4e98-a044-a43746510735",
   "metadata": {},
   "source": [
    "## Deploy to Endpoint"
   ]
  },
  {
   "cell_type": "code",
   "execution_count": 6,
   "id": "3f36d620-01b1-4a4b-baed-ee05248ba2c1",
   "metadata": {
    "tags": []
   },
   "outputs": [],
   "source": [
    "from sagemaker.pytorch import PyTorchModel\n",
    "from sagemaker.serializers import JSONSerializer\n",
    "from sagemaker.deserializers import JSONDeserializer"
   ]
  },
  {
   "cell_type": "markdown",
   "id": "386bac9b-13b3-42e5-8dc1-194bc12cb6ea",
   "metadata": {},
   "source": [
    "Get the `model_data` from the models uploaded to S3 of the aboved training"
   ]
  },
  {
   "cell_type": "markdown",
   "id": "30d85420-0ef5-44e7-866b-d6fdb502c9e0",
   "metadata": {},
   "source": [
    "Once your debugging is done, it's better to simply call `pt_estimator.deploy`"
   ]
  },
  {
   "cell_type": "code",
   "execution_count": 62,
   "id": "53b71359-dbad-40cf-b4fa-8a8f56168687",
   "metadata": {
    "tags": []
   },
   "outputs": [],
   "source": [
    "# pt_estimator.model_data"
   ]
  },
  {
   "cell_type": "code",
   "execution_count": 51,
   "id": "278826ba-1fb6-4361-9c15-8793455ce308",
   "metadata": {
    "tags": []
   },
   "outputs": [],
   "source": [
    "model = PyTorchModel(\n",
    "    entry_point=\"infer.py\",\n",
    "    source_dir=\"script\",\n",
    "    role=get_execution_role(),\n",
    "    model_data=pt_estimator.model_data,\n",
    "    image_uri='***.dkr.ecr.us-west-2.amazonaws.com/emlo:infer',\n",
    ")"
   ]
  },
  {
   "cell_type": "code",
   "execution_count": 52,
   "id": "aec12d4d-fc66-40bf-b976-c9216c0d7fdb",
   "metadata": {
    "tags": []
   },
   "outputs": [
    {
     "name": "stdout",
     "output_type": "stream",
     "text": [
      "--------!"
     ]
    }
   ],
   "source": [
    "predictor = model.deploy(\n",
    "    initial_instance_count=1,\n",
    "    instance_type=\"ml.t2.medium\",\n",
    "    serializer=JSONSerializer(),\n",
    "    deserializer=JSONDeserializer(),\n",
    ")"
   ]
  },
  {
   "cell_type": "markdown",
   "id": "90d6963a-3d06-47b2-8ad9-ce726a1efc96",
   "metadata": {},
   "source": [
    "## Inference"
   ]
  },
  {
   "cell_type": "code",
   "execution_count": 20,
   "id": "04478626-d4d8-463f-9664-c9069a4950a7",
   "metadata": {
    "tags": []
   },
   "outputs": [],
   "source": [
    "classnames = ['buildings', 'forest', 'glacier', 'mountain', 'sea', 'street']"
   ]
  },
  {
   "cell_type": "code",
   "execution_count": 19,
   "id": "da62aef8-43c7-4bc8-aee4-5726e2851310",
   "metadata": {
    "tags": []
   },
   "outputs": [],
   "source": [
    "import torch\n",
    "\n",
    "import torchvision.transforms as T\n",
    "import torch.nn.functional as F\n",
    "\n",
    "from PIL import Image\n",
    "import numpy as np"
   ]
  },
  {
   "cell_type": "code",
   "execution_count": 59,
   "id": "bc703c55-0b64-4fc9-9245-a64ed317fc04",
   "metadata": {
    "tags": []
   },
   "outputs": [
    {
     "name": "stdout",
     "output_type": "stream",
     "text": [
      "the top 5 predictions for img/street2.jpg (in %) are\n",
      "{'street': 100.0, 'buildings': 0.0, 'sea': 0.0, 'glacier': 0.0, 'forest': 0.0}\n",
      "------------------\n",
      "the top 5 predictions for img/glacier2.jpg (in %) are\n",
      "{'glacier': 99.65, 'mountain': 0.35, 'sea': 0.0, 'forest': 0.0, 'buildings': 0.0}\n",
      "------------------\n",
      "the top 5 predictions for img/forest2.jpg (in %) are\n",
      "{'forest': 100.0, 'glacier': 0.0, 'sea': 0.0, 'street': 0.0, 'buildings': 0.0}\n",
      "------------------\n",
      "the top 5 predictions for img/mountain2.jpg (in %) are\n",
      "{'mountain': 98.22, 'glacier': 1.09, 'buildings': 0.43, 'sea': 0.16, 'forest': 0.09}\n",
      "------------------\n",
      "the top 5 predictions for img/buildings2.jpg (in %) are\n",
      "{'buildings': 58.88, 'sea': 22.97, 'mountain': 11.68, 'street': 3.55, 'glacier': 2.63}\n",
      "------------------\n",
      "the top 5 predictions for img/sea2.jpg (in %) are\n",
      "{'sea': 99.88, 'glacier': 0.11, 'mountain': 0.0, 'street': 0.0, 'buildings': 0.0}\n",
      "------------------\n",
      "the top 5 predictions for img/buildings1.jpg (in %) are\n",
      "{'buildings': 99.37, 'street': 0.62, 'sea': 0.0, 'glacier': 0.0, 'forest': 0.0}\n",
      "------------------\n",
      "the top 5 predictions for img/sea1.jpg (in %) are\n",
      "{'sea': 99.96, 'glacier': 0.04, 'mountain': 0.0, 'buildings': 0.0, 'street': 0.0}\n",
      "------------------\n",
      "the top 5 predictions for img/forest1.jpg (in %) are\n",
      "{'forest': 100.0, 'glacier': 0.0, 'sea': 0.0, 'mountain': 0.0, 'buildings': 0.0}\n",
      "------------------\n",
      "the top 5 predictions for img/mountain1.jpg (in %) are\n",
      "{'mountain': 87.44, 'glacier': 12.2, 'sea': 0.19, 'forest': 0.16, 'buildings': 0.01}\n",
      "------------------\n",
      "the top 5 predictions for img/street1.jpg (in %) are\n",
      "{'street': 99.98, 'buildings': 0.02, 'glacier': 0.0, 'sea': 0.0, 'forest': 0.0}\n",
      "------------------\n",
      "the top 5 predictions for img/glacier1.jpg (in %) are\n",
      "{'glacier': 98.25, 'mountain': 1.74, 'sea': 0.0, 'buildings': 0.0, 'street': 0.0}\n",
      "------------------\n"
     ]
    }
   ],
   "source": [
    "import os\n",
    "directory = 'img'\n",
    "for filename in os.listdir(directory):\n",
    "    f = os.path.join(directory, filename)\n",
    "    # checking if it is a file\n",
    "    inp_img1 = Image.open(f)\n",
    "    input_array1 = np.array(inp_img1)/255\n",
    "    input_tensor = {\"inputs\": input_array1}\n",
    "    out = predictor.predict(input_tensor)\n",
    "    print(f'the top 5 predictions for {f} (in %) are')\n",
    "    print(out)\n",
    "    print('------------------')\n",
    "    "
   ]
  },
  {
   "cell_type": "markdown",
   "id": "1540ef99-b59b-4ee1-9040-bf1449e8f3cd",
   "metadata": {},
   "source": [
    "# Cleanup"
   ]
  },
  {
   "cell_type": "code",
   "execution_count": 60,
   "id": "f600dcbf-e9e9-4567-8a74-c33548437957",
   "metadata": {
    "tags": []
   },
   "outputs": [],
   "source": [
    "predictor.delete_endpoint(delete_endpoint_config=True)\n",
    "model.delete_model()"
   ]
  },
  {
   "cell_type": "code",
   "execution_count": null,
   "id": "70b42300-f5eb-4b22-a0a0-3f3c11539ad5",
   "metadata": {},
   "outputs": [],
   "source": []
  }
 ],
 "metadata": {
  "instance_type": "ml.t3.medium",
  "kernelspec": {
   "display_name": "Python 3 (PyTorch 1.12 Python 3.8 CPU Optimized)",
   "language": "python",
   "name": "python3__SAGEMAKER_INTERNAL__arn:aws:sagemaker:us-west-2:236514542706:image/pytorch-1.12-cpu-py38"
  },
  "language_info": {
   "codemirror_mode": {
    "name": "ipython",
    "version": 3
   },
   "file_extension": ".py",
   "mimetype": "text/x-python",
   "name": "python",
   "nbconvert_exporter": "python",
   "pygments_lexer": "ipython3",
   "version": "3.8.13"
  },
  "vscode": {
   "interpreter": {
    "hash": "fac7424d3b00ca63a2b47ef3df037fa418f5dff68073eb8d994aac0c5e313ce6"
   }
  }
 },
 "nbformat": 4,
 "nbformat_minor": 5
}
