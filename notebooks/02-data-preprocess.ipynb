{
 "cells": [
  {
   "cell_type": "code",
   "execution_count": 2,
   "id": "1545498a-2c83-4d69-b44a-df08fc17c2b1",
   "metadata": {
    "tags": []
   },
   "outputs": [
    {
     "name": "stdout",
     "output_type": "stream",
     "text": [
      "\u001b[33mWARNING: Running pip as the 'root' user can result in broken permissions and conflicting behaviour with the system package manager. It is recommended to use a virtual environment instead: https://pip.pypa.io/warnings/venv\u001b[0m\u001b[33m\n",
      "\u001b[0m\n",
      "\u001b[1m[\u001b[0m\u001b[34;49mnotice\u001b[0m\u001b[1;39;49m]\u001b[0m\u001b[39;49m A new release of pip available: \u001b[0m\u001b[31;49m22.2.2\u001b[0m\u001b[39;49m -> \u001b[0m\u001b[32;49m22.3.1\u001b[0m\n",
      "\u001b[1m[\u001b[0m\u001b[34;49mnotice\u001b[0m\u001b[1;39;49m]\u001b[0m\u001b[39;49m To update, run: \u001b[0m\u001b[32;49mpip install --upgrade pip\u001b[0m\n"
     ]
    }
   ],
   "source": [
    "! pip install --quiet git-remote-codecommit"
   ]
  },
  {
   "cell_type": "code",
   "execution_count": 2,
   "id": "c2b10f4c-0b06-4f84-8284-d0a470781a0c",
   "metadata": {
    "tags": []
   },
   "outputs": [],
   "source": [
    "import boto3\n",
    "import sagemaker\n",
    "import time\n",
    "from time import strftime\n",
    "\n",
    "boto_session = boto3.Session()\n",
    "sagemaker_session = sagemaker.Session(boto_session=boto_session)\n",
    "sm_client = boto3.client(\"sagemaker\")\n",
    "region = boto_session.region_name\n",
    "bucket = sagemaker_session.default_bucket()\n",
    "role = sagemaker.get_execution_role()\n",
    "account = sagemaker_session.boto_session.client(\"sts\").get_caller_identity()[\"Account\"]\n",
    "\n",
    "prefix = 'sagemaker-intel-dvc'\n",
    "\n",
    "# print(f\"account: {account}\")\n",
    "# print(f\"bucket: {bucket}\")\n",
    "# print(f\"region: {region}\")\n",
    "# print(f\"role: {role}\")"
   ]
  },
  {
   "cell_type": "code",
   "execution_count": 4,
   "id": "3aef066b-3eb8-4e9c-b8ca-e1fec9ef7201",
   "metadata": {
    "tags": []
   },
   "outputs": [],
   "source": [
    "from sagemaker.pytorch.processing import PyTorchProcessor\n",
    "from sagemaker.processing import ProcessingInput, ProcessingOutput\n",
    "from sagemaker import get_execution_role"
   ]
  },
  {
   "cell_type": "code",
   "execution_count": 5,
   "id": "fd9d2589-c0e3-4d41-9ecf-7d95eb8f3925",
   "metadata": {
    "tags": []
   },
   "outputs": [],
   "source": [
    "dvc_repo_url = \"codecommit::us-west-2://sagemaker-intel\"\n",
    "dvc_branch = \"processed-dataset\""
   ]
  },
  {
   "cell_type": "code",
   "execution_count": 12,
   "id": "722e3204-ce72-40e3-9903-2a0f7415c676",
   "metadata": {
    "tags": []
   },
   "outputs": [],
   "source": [
    "pytorch_processor = PyTorchProcessor(\n",
    "    framework_version='1.12',\n",
    "    image_uri='****.dkr.ecr.us-west-2.amazonaws.com/emlo:infer',\n",
    "    role=get_execution_role(),\n",
    "    instance_type='ml.t3.medium',\n",
    "    instance_count=1,\n",
    "    base_job_name='preprocess-intel-dataset',\n",
    "    env={\n",
    "        \"DVC_REPO_URL\": dvc_repo_url,\n",
    "        \"DVC_BRANCH\": dvc_branch,\n",
    "        \"GIT_USER\": \"m\",\n",
    "        \"GIT_EMAIL\": \"m@emlo.com\"\n",
    "    }\n",
    ")"
   ]
  },
  {
   "cell_type": "code",
   "execution_count": 13,
   "id": "9714b420-321b-4f65-8f20-49918731c21c",
   "metadata": {
    "tags": []
   },
   "outputs": [
    {
     "name": "stdout",
     "output_type": "stream",
     "text": [
      "/root/intel-notebook\n"
     ]
    }
   ],
   "source": [
    "! pwd"
   ]
  },
  {
   "cell_type": "code",
   "execution_count": 14,
   "id": "49d3779c-5211-4f51-9670-22d2b6287125",
   "metadata": {
    "tags": []
   },
   "outputs": [],
   "source": [
    "input_dataset = \"s3://sagemaker-us-west-2-****/intel.zip\""
   ]
  },
  {
   "cell_type": "code",
   "execution_count": null,
   "id": "a1c43b70-9584-4dcf-b1a6-74eb51c3f244",
   "metadata": {},
   "outputs": [],
   "source": [
    "pytorch_processor.run(\n",
    "    code='preprocess.py',\n",
    "    source_dir='scripts',\n",
    "    inputs=[\n",
    "        ProcessingInput(\n",
    "            input_name='data',\n",
    "            source=input_dataset,\n",
    "            destination='/opt/ml/processing/input'\n",
    "        )\n",
    "    ]\n",
    ")"
   ]
  }
 ],
 "metadata": {
  "instance_type": "ml.t3.medium",
  "kernelspec": {
   "display_name": "Python 3 (PyTorch 1.12 Python 3.8 CPU Optimized)",
   "language": "python",
   "name": "python3__SAGEMAKER_INTERNAL__arn:aws:sagemaker:us-west-2:236514542706:image/pytorch-1.12-cpu-py38"
  },
  "language_info": {
   "codemirror_mode": {
    "name": "ipython",
    "version": 3
   },
   "file_extension": ".py",
   "mimetype": "text/x-python",
   "name": "python",
   "nbconvert_exporter": "python",
   "pygments_lexer": "ipython3",
   "version": "3.8.13"
  },
  "vscode": {
   "interpreter": {
    "hash": "fac7424d3b00ca63a2b47ef3df037fa418f5dff68073eb8d994aac0c5e313ce6"
   }
  }
 },
 "nbformat": 4,
 "nbformat_minor": 5
}
